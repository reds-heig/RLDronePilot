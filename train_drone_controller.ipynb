{
 "cells": [
  {
   "attachments": {
    "d070880e-9ab1-40a2-bbe9-221438a24ede.jpg": {
     "image/jpeg": "[encoded data removed]"
    }
   },
   "cell_type": "markdown",
   "metadata": {},
   "source": [
    "# Fully Autonomous Line-Follower Drone\n",
    "This project was realized for the [REDS institute](https://reds.heig-vd.ch/) @ [HEIG-VD](https://heig-vd.ch/).\n",
    "\n",
    "Authors: Guillaume Chacun, Mehdi Akeddar, Thomas Rieder, Bruno Da Rocha Carvalho and Marina Zapater<br>\n",
    "REDS. School of Engineering and Management Vaud, HES-SO University of Applied sciences and Arts Western Switzerland<br>\n",
    "Email: {guillaume.chacun, mehdi.akeddar, thomas.rieder, bruno.darochacarvalho, marina.zapater}@heig-vd.ch<br>\n",
    "\n",
    "## Goal\n",
    "This Jupyter notebook is used to train a DDPG (reinforcement learning) model to control a drone, specifically to guide it to follow a predefined line on the ground. A separate deep learning model is used to identify and track the line from images captured by the on-board camera. The pilot module processes real-world normalised coordinates of points A and B (see image below) and generates forward, lateral and angular velocities for the drone.\n",
    "\n",
    "![example_line_AB.jpg](attachment:d070880e-9ab1-40a2-bbe9-221438a24ede.jpg)\n",
    "\n",
    "## Content of this repository\n",
    "- This Notebook is used to train the reinforcement learning model.\n",
    "- *ddpg_torch.py* : DDPG related classes (OUActionNoise, ReplayBuffer, CriticNetwork, ActorNetwork, Agent).\n",
    "- *Drone.py* : Class to simulate the behavior of the drone.\n",
    "- *Line.py* : Class to generate a random line for the drone to follow.\n",
    "- *Environment.py* : Class to handle the simulation (episodes). Contains an instance of Drone and Line.\n",
    "\n",
    "## Setup\n",
    "Install dependencies:\n",
    "\n",
    "```bash\n",
    "poetry install\n",
    "```\n",
    "\n",
    "Activate the virtual environment of Poetry:\n",
    "```bash\n",
    "poetry shell\n",
    "```\n",
    "\n",
    "Start your Jupyter Lab server:\n",
    "```bash\n",
    "jupyter lab\n",
    "```\n",
    "\n",
    "## Disclaimer\n",
    "Most of the DDPG code is from [@philtabor's GitHub](https://github.com/philtabor/Youtube-Code-Repository/blob/master/ReinforcementLearning/PolicyGradient/DDPG/pytorch/lunar-lander/ddpg_torch.py) (last visited on March 5th, 2024)."
   ]
  },
  {
   "cell_type": "markdown",
   "metadata": {},
   "source": [
    "# Imports"
   ]
  },
  {
   "cell_type": "code",
   "execution_count": 1,
   "metadata": {
    "collapsed": false,
    "jupyter": {
     "outputs_hidden": false
    }
   },
   "outputs": [],
   "source": [
    "import ipywidgets as widgets\n",
    "from IPython.display import display, clear_output\n",
    "import matplotlib.pyplot as plt\n",
    "from multiprocessing import Process, Event\n",
    "import neptune\n",
    "import numpy as np\n",
    "from tqdm import tqdm # does not work with tqdm.notebook\n",
    "import yaml"
   ]
  },
  {
   "cell_type": "code",
   "execution_count": 2,
   "metadata": {},
   "outputs": [],
   "source": [
    "%matplotlib inline\n",
    "# does not work with %matplotlib widgets"
   ]
  },
  {
   "cell_type": "code",
   "execution_count": 3,
   "metadata": {},
   "outputs": [],
   "source": [
    "%load_ext autoreload\n",
    "%autoreload 2\n",
    "from ddpg_torch import Agent\n",
    "from Drone import Drone\n",
    "from Environment import Environment"
   ]
  },
  {
   "cell_type": "markdown",
   "metadata": {},
   "source": [
    "# Parameters"
   ]
  },
  {
   "cell_type": "code",
   "execution_count": 4,
   "metadata": {},
   "outputs": [],
   "source": [
    "log = True"
   ]
  },
  {
   "cell_type": "code",
   "execution_count": 5,
   "metadata": {},
   "outputs": [],
   "source": [
    "load_weights = False"
   ]
  },
  {
   "cell_type": "code",
   "execution_count": 6,
   "metadata": {},
   "outputs": [],
   "source": [
    "seed = 23\n",
    "np.random.seed(seed)"
   ]
  },
  {
   "cell_type": "code",
   "execution_count": 7,
   "metadata": {},
   "outputs": [],
   "source": [
    "alpha = 0.000025\n",
    "beta = 0.00025\n",
    "tau = 0.001\n",
    "batch_size = 128\n",
    "layer1_size = 400\n",
    "layer2_size = 300"
   ]
  },
  {
   "cell_type": "markdown",
   "metadata": {},
   "source": [
    "# Setup"
   ]
  },
  {
   "cell_type": "code",
   "execution_count": 8,
   "metadata": {},
   "outputs": [],
   "source": [
    "# load neptune api key\n",
    "with open('.neptune_config.yaml', 'r') as config_file:\n",
    "    neptune_config = yaml.safe_load(config_file)\n",
    "api_token = neptune_config.get('api_token')"
   ]
  },
  {
   "cell_type": "code",
   "execution_count": 9,
   "metadata": {},
   "outputs": [
    {
     "name": "stdout",
     "output_type": "stream",
     "text": [
      "[neptune] [info   ] Neptune initialized. Open in the app: https://app.neptune.ai/chacungu/Drone-Controller-with-Reinforcement-Learning/e/RLCONTROL-14\n"
     ]
    }
   ],
   "source": [
    "if log:\n",
    "    # init neptune\n",
    "    run = neptune.init_run(\n",
    "        project='chacungu/Drone-Controller-with-Reinforcement-Learning', \n",
    "        api_token=api_token, \n",
    "        tags=['reds'],\n",
    "        capture_stdout=False,\n",
    "        capture_stderr=False,\n",
    "        capture_traceback=False,\n",
    "        capture_hardware_metrics=False,\n",
    "    )\n",
    "    run['parameters'] = {\n",
    "        'alpha': alpha,\n",
    "        'beta': beta,\n",
    "        'tau': tau,\n",
    "        'batch_size': batch_size,\n",
    "        'layer1_size': layer1_size,\n",
    "        'layer2_size': layer2_size,\n",
    "        'Drone._height': Drone._height,\n",
    "        'Drone._z_min_speed': Drone._z_min_speed,\n",
    "        'Drone._z_max_speed': Drone._z_max_speed,\n",
    "        'Drone._x_max_speed': Drone._x_max_speed,\n",
    "        'Drone._max_angular_speed': Drone._max_angular_speed,\n",
    "        'Drone._max_drift': Drone._max_drift,\n",
    "        'Drone._fps': Drone._fps,\n",
    "        'Drone._flight_commands_rate': Drone._flight_commands_rate,\n",
    "    }"
   ]
  },
  {
   "cell_type": "code",
   "execution_count": 10,
   "metadata": {},
   "outputs": [],
   "source": [
    "# GUI Toggle Button\n",
    "def toggle_render_event(change):\n",
    "    if change.new:\n",
    "        is_toggle_render.set()\n",
    "    else:\n",
    "        is_toggle_render.clear()\n",
    "    clear_output(wait=True)\n",
    "\n",
    "is_toggle_render = Event() # shared value storing the state of the Toggle Button\n",
    "toggle_render = widgets.ToggleButton(value=False, description='Toggle Render')\n",
    "toggle_render.observe(toggle_render_event, 'value')"
   ]
  },
  {
   "cell_type": "code",
   "execution_count": 11,
   "metadata": {},
   "outputs": [],
   "source": [
    "# GUI Output area\n",
    "out = widgets.Output(layout={'border': '1px solid black'})"
   ]
  },
  {
   "cell_type": "code",
   "execution_count": 12,
   "metadata": {},
   "outputs": [],
   "source": [
    "# Training Loop\n",
    "def run_loop(toggle_render, out, pbar, n_episodes, load_weights):\n",
    "    # init \n",
    "    env = Environment(seed=seed)\n",
    "    agent = Agent(alpha=alpha, beta=beta, input_dims=[3], n_actions=3, tau=tau,\n",
    "                  batch_size=batch_size, layer1_size=layer1_size, layer2_size=layer2_size)\n",
    "    if load_weights:\n",
    "        agent.load_models()\n",
    "    score_history = []\n",
    "    speed_z_history = []\n",
    "    speed_x_history = []\n",
    "    speed_a_history = []\n",
    "    \n",
    "    for i in range(n_episodes):\n",
    "        state = env.reset()\n",
    "        done = False\n",
    "        score = 0\n",
    "        \n",
    "        episode_history = {\n",
    "            'speed_z': [],\n",
    "            'speed_x': [],\n",
    "            'speed_a': [],\n",
    "        }\n",
    "        \n",
    "        while not done: # while episode is not over\n",
    "            action = agent.choose_action(state)\n",
    "            new_state, reward, terminated, truncated = env.step(action)\n",
    "            done = terminated or truncated\n",
    "            agent.remember(state, action, reward, new_state, int(done))\n",
    "            agent.learn()\n",
    "            score += reward\n",
    "            state = new_state\n",
    "\n",
    "            # save speeds\n",
    "            speed_z, speed_x, speed_a = env.drone.pilot_speeds_to_drones(*action)\n",
    "            episode_history['speed_z'].append(speed_z)\n",
    "            episode_history['speed_x'].append(speed_x)\n",
    "            episode_history['speed_a'].append(speed_a)\n",
    "            \n",
    "            if is_toggle_render.is_set():\n",
    "                env.render(out)\n",
    "\n",
    "        # save score & speeds\n",
    "        score_history.append(score)\n",
    "        avg_speed_z = np.mean(episode_history['speed_z'])\n",
    "        speed_z_history.append(avg_speed_z)\n",
    "        avg_speed_x = np.mean(episode_history['speed_x'])\n",
    "        speed_x_history.append(avg_speed_x)\n",
    "        avg_speed_a = np.mean(episode_history['speed_a'])\n",
    "        speed_a_history.append(avg_speed_a)\n",
    "        if log:\n",
    "            run['train/reward'].log(score)\n",
    "            run['train/avg_speed_z'].log(avg_speed_z)\n",
    "            run['train/avg_speed_x'].log(avg_speed_x)\n",
    "            run['train/avg_speed_a'].log(avg_speed_a)\n",
    "\n",
    "        # update progress bar\n",
    "        pbar.update(1)\n",
    "        pbar.set_description(\n",
    "            'avg score %.3f | avg z %.2f | avg x %.2f | avg a %.1f' % (\n",
    "                np.mean(score_history[-100:]),\n",
    "                np.mean(speed_z_history[-100:]),\n",
    "                np.mean(speed_x_history[-100:]),\n",
    "                np.mean(speed_a_history[-100:]),\n",
    "        ))\n",
    "\n",
    "        # save models\n",
    "        if i % 100 == 0:\n",
    "            agent.save_models()"
   ]
  },
  {
   "cell_type": "markdown",
   "metadata": {},
   "source": [
    "# Training"
   ]
  },
  {
   "cell_type": "code",
   "execution_count": 13,
   "metadata": {},
   "outputs": [
    {
     "data": {
      "application/vnd.jupyter.widget-view+json": {
       "model_id": "1c1bf5c184c4437e99ebefc318feca52",
       "version_major": 2,
       "version_minor": 0
      },
      "text/plain": [
       "ToggleButton(value=False, description='Toggle Render')"
      ]
     },
     "metadata": {},
     "output_type": "display_data"
    },
    {
     "data": {
      "application/vnd.jupyter.widget-view+json": {
       "model_id": "44e18501be844ddcb79d333bcf2e2129",
       "version_major": 2,
       "version_minor": 0
      },
      "text/plain": [
       "Output(layout=Layout(border_bottom='1px solid black', border_left='1px solid black', border_right='1px solid b…"
      ]
     },
     "metadata": {},
     "output_type": "display_data"
    },
    {
     "name": "stderr",
     "output_type": "stream",
     "text": [
      "avg score 160.138 | avg z 0.29 | avg x 0.04 | avg a -0.4:   0%|          | 12223/10000000 [1:17:57<1272:34:01,  2.18it/s]"
     ]
    }
   ],
   "source": [
    "# Display the toggle button and the plot area\n",
    "display(toggle_render, out)\n",
    "\n",
    "# Display the progress bar\n",
    "n_episodes = int(1e7)\n",
    "pbar = tqdm(total=n_episodes, position=0)\n",
    "\n",
    "# Start the process that handles the training\n",
    "process = Process(target=run_loop, args=(toggle_render, out, pbar, n_episodes, load_weights))\n",
    "process.start()"
   ]
  },
  {
   "cell_type": "code",
   "execution_count": 14,
   "metadata": {},
   "outputs": [],
   "source": [
    "# interrupt the training\n",
    "#process.join()"
   ]
  },
  {
   "cell_type": "code",
   "execution_count": null,
   "metadata": {},
   "outputs": [],
   "source": [
    "# stop neptune\n",
    "run.stop()"
   ]
  },
  {
   "cell_type": "markdown",
   "metadata": {},
   "source": [
    "# Tests"
   ]
  },
  {
   "cell_type": "markdown",
   "metadata": {},
   "source": [
    "## Reward func"
   ]
  },
  {
   "cell_type": "code",
   "execution_count": 8,
   "metadata": {
    "scrolled": true
   },
   "outputs": [
    {
     "data": {
      "image/png": "[encoded data removed]",
      "text/plain": [
       "<Figure size 2500x800 with 10 Axes>"
      ]
     },
     "metadata": {},
     "output_type": "display_data"
    }
   ],
   "source": [
    "import numpy as np\n",
    "import matplotlib.pyplot as plt\n",
    "dists = np.arange(0.,15., .25)\n",
    "def reward_f2(dist, speed_act_delay=5, alpha=5):\n",
    "    return max(0, (dist - speed_act_delay)) * alpha * speed\n",
    "def reward_f(dist, speed_act_delay=5, gamma=.75, alpha=4): \n",
    "    A = dist * (gamma if dist < speed_act_delay else 1.)\n",
    "    B = reward_f2(dist, speed_act_delay, alpha)\n",
    "    return A + B\n",
    "fig, axes = plt.subplots(1,10, figsize=(25,8), sharey=True)\n",
    "for ax, speed in zip(axes, np.arange(0., 1.1, .1)):\n",
    "    ax.set_title('%.1f' % speed)\n",
    "    rewards = list(map(reward_f, dists))\n",
    "    ax.bar(dists, rewards, color='black')\n",
    "    ax.bar(dists, dists, color='orange')\n",
    "    ax.bar(dists, list(map(reward_f2, dists)), color='blue')\n",
    "    ax.grid(axis='y')"
   ]
  },
  {
   "cell_type": "markdown",
   "metadata": {},
   "source": [
    "## Environment"
   ]
  },
  {
   "cell_type": "raw",
   "metadata": {},
   "source": [
    "%load_ext autoreload\n",
    "%autoreload 2\n",
    "from Line import Line\n",
    "from Drone import Drone\n",
    "import matplotlib.pyplot as plt\n",
    "seed = 23\n",
    "fig = plt.figure(figsize=(15,15))\n",
    "line = Line(seed)\n",
    "line.plot(show=False)\n",
    "drone = Drone(seed)\n",
    "drone.find_line(line)\n",
    "drone.plot(show=False)\n",
    "plt.legend()\n",
    "plt.show()"
   ]
  },
  {
   "cell_type": "code",
   "execution_count": 16,
   "metadata": {},
   "outputs": [],
   "source": [
    "testenv = Environment(seed=23)\n",
    "testout = widgets.Output(layout={'border': '1px solid black'})"
   ]
  },
  {
   "cell_type": "code",
   "execution_count": 17,
   "metadata": {},
   "outputs": [
    {
     "data": {
      "text/plain": [
       "([0.02572516385908874, 1.0, -0.15205325877723075], 0.23, False, False)"
      ]
     },
     "execution_count": 17,
     "metadata": {},
     "output_type": "execute_result"
    }
   ],
   "source": [
    "testenv.step([0, \n",
    "              0, \n",
    "              0])"
   ]
  },
  {
   "cell_type": "code",
   "execution_count": 18,
   "metadata": {},
   "outputs": [
    {
     "data": {
      "application/vnd.jupyter.widget-view+json": {
       "model_id": "725a3fda6a9e4250a20e0ee9703aa4ab",
       "version_major": 2,
       "version_minor": 0
      },
      "text/plain": [
       "Output(layout=Layout(border_bottom='1px solid black', border_left='1px solid black', border_right='1px solid b…"
      ]
     },
     "metadata": {},
     "output_type": "display_data"
    },
    {
     "data": {
      "text/plain": [
       "<Figure size 640x480 with 0 Axes>"
      ]
     },
     "metadata": {},
     "output_type": "display_data"
    }
   ],
   "source": [
    "display(testout)\n",
    "testenv.render(testout)"
   ]
  },
  {
   "cell_type": "code",
   "execution_count": null,
   "metadata": {},
   "outputs": [],
   "source": []
  }
 ],
 "metadata": {
  "kernelspec": {
   "display_name": "Python 3 (ipykernel)",
   "language": "python",
   "name": "python3"
  },
  "language_info": {
   "codemirror_mode": {
    "name": "ipython",
    "version": 3
   },
   "file_extension": ".py",
   "mimetype": "text/x-python",
   "name": "python",
   "nbconvert_exporter": "python",
   "pygments_lexer": "ipython3",
   "version": "3.10.11"
  }
 },
 "nbformat": 4,
 "nbformat_minor": 4
}
