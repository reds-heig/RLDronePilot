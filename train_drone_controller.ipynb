{
 "cells": [
  {
   "attachments": {
    "d070880e-9ab1-40a2-bbe9-221438a24ede.jpg": {
     "image/jpeg": "[encoded data removed]"
    }
   },
   "cell_type": "markdown",
   "metadata": {},
   "source": [
    "# Fully Autonomous Line-Follower Drone\n",
    "This project was realized for the [REDS institute](https://reds.heig-vd.ch/) @ [HEIG-VD](https://heig-vd.ch/).\n",
    "\n",
    "Authors: Guillaume Chacun, Mehdi Akeddar, Thomas Rieder, Bruno Da Rocha Carvalho and Marina Zapater<br>\n",
    "REDS. School of Engineering and Management Vaud, HES-SO University of Applied sciences and Arts Western Switzerland<br>\n",
    "Email: {guillaume.chacun, mehdi.akeddar, thomas.rieder, bruno.darochacarvalho, marina.zapater}@heig-vd.ch<br>\n",
    "\n",
    "## Goal\n",
    "This Jupyter notebook is used to train a DDPG (reinforcement learning) model to control a drone, specifically to guide it to follow a predefined line on the ground. A separate deep learning model is used to identify and track the line from images captured by the on-board camera. The pilot module processes real-world normalised coordinates of points A and B (see image below) and generates forward, lateral and angular velocities for the drone.\n",
    "\n",
    "![example_line_AB.jpg](attachment:d070880e-9ab1-40a2-bbe9-221438a24ede.jpg)\n",
    "\n",
    "## Content of this repository\n",
    "- This Notebook is used to train the reinforcement learning model.\n",
    "- *ddpg_torch.py* : DDPG related classes (OUActionNoise, ReplayBuffer, CriticNetwork, ActorNetwork, Agent).\n",
    "- *Drone.py* : Class to simulate the behavior of the drone.\n",
    "- *Line.py* : Class to generate a random line for the drone to follow.\n",
    "- *Environment.py* : Class to handle the simulation (episodes). Contains an instance of Drone and Line.\n",
    "\n",
    "## Setup\n",
    "Install dependencies:\n",
    "\n",
    "```bash\n",
    "poetry install\n",
    "```\n",
    "\n",
    "Activate the virtual environment of Poetry:\n",
    "```bash\n",
    "poetry shell\n",
    "```\n",
    "\n",
    "Start your Jupyter Lab server:\n",
    "```bash\n",
    "jupyter lab\n",
    "```\n",
    "\n",
    "## Disclaimer\n",
    "Most of the DDPG code is from [@philtabor's GitHub](https://github.com/philtabor/Youtube-Code-Repository/blob/master/ReinforcementLearning/PolicyGradient/DDPG/pytorch/lunar-lander/ddpg_torch.py) (last visited on March 5th, 2024)."
   ]
  },
  {
   "cell_type": "markdown",
   "metadata": {
    "jp-MarkdownHeadingCollapsed": true
   },
   "source": [
    "# Imports"
   ]
  },
  {
   "cell_type": "code",
   "execution_count": 1,
   "metadata": {
    "collapsed": false,
    "jupyter": {
     "outputs_hidden": false
    }
   },
   "outputs": [],
   "source": [
    "import ipywidgets as widgets\n",
    "from IPython.display import display, clear_output\n",
    "import matplotlib.pyplot as plt\n",
    "from multiprocessing import Process, Event\n",
    "import neptune\n",
    "import numpy as np\n",
    "from tqdm import tqdm # does not work with tqdm.notebook\n",
    "import yaml"
   ]
  },
  {
   "cell_type": "code",
   "execution_count": 2,
   "metadata": {},
   "outputs": [],
   "source": [
    "%matplotlib inline\n",
    "# does not work with %matplotlib widgets"
   ]
  },
  {
   "cell_type": "code",
   "execution_count": 3,
   "metadata": {},
   "outputs": [],
   "source": [
    "%load_ext autoreload\n",
    "%autoreload 2\n",
    "from ddpg_torch import Agent\n",
    "from Drone import Drone\n",
    "from Environment import Environment"
   ]
  },
  {
   "cell_type": "markdown",
   "metadata": {},
   "source": [
    "# Parameters"
   ]
  },
  {
   "cell_type": "code",
   "execution_count": 4,
   "metadata": {},
   "outputs": [],
   "source": [
    "log = True"
   ]
  },
  {
   "cell_type": "code",
   "execution_count": 5,
   "metadata": {},
   "outputs": [],
   "source": [
    "load_weights = True"
   ]
  },
  {
   "cell_type": "code",
   "execution_count": 6,
   "metadata": {},
   "outputs": [],
   "source": [
    "seed = 23\n",
    "np.random.seed(seed)"
   ]
  },
  {
   "cell_type": "code",
   "execution_count": 7,
   "metadata": {},
   "outputs": [],
   "source": [
    "# DPPG parameters\n",
    "actor_lr  = 0.000025\n",
    "critic_lr = 0.00025\n",
    "ddpg_tau = 0.001\n",
    "batch_size = 128\n",
    "layer1_size = 400\n",
    "layer2_size = 300\n",
    "memory_size = 0 # size of 0 disables the agent's memory"
   ]
  },
  {
   "cell_type": "code",
   "execution_count": 8,
   "metadata": {},
   "outputs": [],
   "source": [
    "# Environment parameters\n",
    "max_allowed_dist = 0.50 # from the drone to the nearest point on the line (meters)\n",
    "# Reward\n",
    "speed_z_activation_dist = 5\n",
    "target_dist_p1_C = .15\n",
    "alpha = .75\n",
    "beta = 5\n",
    "gamma = 0"
   ]
  },
  {
   "cell_type": "code",
   "execution_count": 9,
   "metadata": {},
   "outputs": [],
   "source": [
    "# Drone parameters\n",
    "allow_x_movement = True\n",
    "z_min_speed = .05        # meters / second\n",
    "z_max_speed = .30        # meters / second\n",
    "x_max_speed = .15        # meters / second\n",
    "max_angular_speed = 45.  # degrees / seconds\n",
    "max_drift = 0.           # meters"
   ]
  },
  {
   "cell_type": "code",
   "execution_count": 10,
   "metadata": {},
   "outputs": [],
   "source": [
    "state_dims = 3\n",
    "n_actions = 3 if allow_x_movement else 2"
   ]
  },
  {
   "cell_type": "markdown",
   "metadata": {},
   "source": [
    "# Setup"
   ]
  },
  {
   "cell_type": "markdown",
   "metadata": {
    "jp-MarkdownHeadingCollapsed": true
   },
   "source": [
    "## Neptune"
   ]
  },
  {
   "cell_type": "code",
   "execution_count": 11,
   "metadata": {},
   "outputs": [],
   "source": [
    "# load neptune api key\n",
    "with open('.neptune_config.yaml', 'r') as config_file:\n",
    "    neptune_config = yaml.safe_load(config_file)\n",
    "api_token = neptune_config.get('api_token')"
   ]
  },
  {
   "cell_type": "code",
   "execution_count": 12,
   "metadata": {},
   "outputs": [
    {
     "name": "stdout",
     "output_type": "stream",
     "text": [
      "[neptune] [info   ] Neptune initialized. Open in the app: https://app.neptune.ai/chacungu/Drone-Controller-with-Reinforcement-Learning/e/RLCONTROL-62\n"
     ]
    }
   ],
   "source": [
    "if log:\n",
    "    # init neptune\n",
    "    run = neptune.init_run(\n",
    "        project='chacungu/Drone-Controller-with-Reinforcement-Learning', \n",
    "        api_token=api_token, \n",
    "        tags=['reds'],\n",
    "        capture_stdout=False,\n",
    "        capture_stderr=False,\n",
    "        capture_traceback=False,\n",
    "        capture_hardware_metrics=False,\n",
    "    )\n",
    "    run['parameters'] = {\n",
    "        'Model/load_weights': load_weights,\n",
    "        'Model/state_dims': state_dims,\n",
    "        'Model/n_actions': n_actions,\n",
    "        \n",
    "        'Model/actor_lr': actor_lr,\n",
    "        'Model/critic_lr': critic_lr,\n",
    "        'Model/tau': ddpg_tau,\n",
    "        'Model/batch_size': batch_size,\n",
    "        'Model/layer1_size': layer1_size,\n",
    "        'Model/layer2_size': layer2_size,\n",
    "        'Model/memory_size': memory_size,\n",
    "        \n",
    "        'Environment/max_allowed_dist': max_allowed_dist,\n",
    "        'Environment/max_drift': max_drift,\n",
    "        \n",
    "        'Reward/speed_z_activation_dist': speed_z_activation_dist,\n",
    "        'Reward/target_dist_p1_C': target_dist_p1_C,\n",
    "        'Reward/alpha': alpha,\n",
    "        'Reward/beta': beta,\n",
    "        'Reward/gamma': gamma,\n",
    "\n",
    "        'Pilot/allow_x_movement': allow_x_movement,\n",
    "        'Pilot/z_min_speed': z_min_speed,\n",
    "        'Pilot/z_max_speed': z_max_speed,\n",
    "        'Pilot/x_max_speed': x_max_speed,\n",
    "        'Pilot/max_angular_speed': max_angular_speed,\n",
    "        \n",
    "        'Drone/height': Drone._height,\n",
    "        'Drone/fps': Drone._fps,\n",
    "        'Drone/flight_commands_rate': Drone._flight_commands_rate,\n",
    "    }"
   ]
  },
  {
   "cell_type": "markdown",
   "metadata": {
    "jp-MarkdownHeadingCollapsed": true
   },
   "source": [
    "## GUI"
   ]
  },
  {
   "cell_type": "code",
   "execution_count": 13,
   "metadata": {},
   "outputs": [],
   "source": [
    "# GUI Toggle Button\n",
    "def toggle_render_event(change):\n",
    "    if change.new:\n",
    "        is_toggle_render.set()\n",
    "    else:\n",
    "        is_toggle_render.clear()\n",
    "    clear_output(wait=True)\n",
    "\n",
    "is_toggle_render = Event() # shared value storing the state of the Toggle Button\n",
    "toggle_render = widgets.ToggleButton(value=False, description='Toggle Render')\n",
    "toggle_render.observe(toggle_render_event, 'value')"
   ]
  },
  {
   "cell_type": "code",
   "execution_count": 14,
   "metadata": {},
   "outputs": [],
   "source": [
    "# GUI Output area\n",
    "out = widgets.Output(layout={'border': '1px solid black'})"
   ]
  },
  {
   "cell_type": "markdown",
   "metadata": {
    "jp-MarkdownHeadingCollapsed": true
   },
   "source": [
    "## Training loop function"
   ]
  },
  {
   "cell_type": "code",
   "execution_count": 15,
   "metadata": {},
   "outputs": [],
   "source": [
    "environment_params = {\n",
    "    'seed': seed,\n",
    "    'max_allowed_dist': max_allowed_dist,\n",
    "    'z_min_speed': z_min_speed,\n",
    "    'z_max_speed': z_max_speed,\n",
    "    'x_max_speed': x_max_speed,\n",
    "    'max_angular_speed': max_angular_speed,\n",
    "    'max_drift': max_drift,\n",
    "    'allow_x_movement': allow_x_movement,\n",
    "    'speed_z_activation_dist': speed_z_activation_dist,\n",
    "    'target_dist_p1_C': target_dist_p1_C,\n",
    "    'alpha': alpha,\n",
    "    'beta':beta ,\n",
    "    'gamma': gamma\n",
    "}\n",
    "agent_params = {\n",
    "    'input_dims': [state_dims + state_dims*memory_size], \n",
    "    'n_actions': n_actions, \n",
    "    'actor_lr': actor_lr, \n",
    "    'critic_lr': critic_lr, \n",
    "    'tau': ddpg_tau,\n",
    "    'batch_size': batch_size, \n",
    "    'layer1_size': layer1_size, \n",
    "    'layer2_size': layer2_size, \n",
    "    'memory_size': memory_size, \n",
    "    'allow_x_movement': allow_x_movement,\n",
    "}"
   ]
  },
  {
   "cell_type": "code",
   "execution_count": 16,
   "metadata": {},
   "outputs": [],
   "source": [
    "# Training Loop\n",
    "def run_loop(toggle_render, out, pbar, n_episodes, load_weights):\n",
    "    # init \n",
    "    env = Environment(**environment_params)\n",
    "    agent = Agent(**agent_params)\n",
    "    if load_weights:\n",
    "        agent.load_models()\n",
    "    score_history = []\n",
    "    speed_z_history = []\n",
    "    speed_x_history = []\n",
    "    speed_a_history = []\n",
    "    \n",
    "    for i in range(n_episodes):\n",
    "        agent.reset_states_memory()\n",
    "        state = env.reset()\n",
    "        done = False\n",
    "        score = 0\n",
    "        \n",
    "        episode_history = {\n",
    "            'speed_z': [],\n",
    "            'speed_x': [],\n",
    "            'speed_a': [],\n",
    "        }\n",
    "        \n",
    "        while not done: # while episode is not over\n",
    "            action = agent.choose_action(state)\n",
    "            new_state, reward, terminated, truncated = env.step(action)\n",
    "            done = terminated or truncated\n",
    "            agent.remember(state, action, reward, new_state, int(done))\n",
    "            agent.learn()\n",
    "            score += reward\n",
    "            state = new_state\n",
    "            if log:\n",
    "                run['train/running_reward'].log(score)\n",
    "\n",
    "            # save speeds\n",
    "            if not allow_x_movement:\n",
    "                action = [action[0], 0., action[1]]\n",
    "            speed_z, speed_x, speed_a = env.drone.pilot_speeds_to_drones(*action)\n",
    "            episode_history['speed_z'].append(speed_z)\n",
    "            episode_history['speed_x'].append(speed_x)\n",
    "            episode_history['speed_a'].append(speed_a)\n",
    "            \n",
    "            if is_toggle_render.is_set():\n",
    "                env.render(out)\n",
    "\n",
    "        # save score & speeds\n",
    "        score_history.append(score)\n",
    "        avg_speed_z = np.mean(episode_history['speed_z'])\n",
    "        speed_z_history.append(avg_speed_z)\n",
    "        avg_speed_x = np.mean(episode_history['speed_x'])\n",
    "        speed_x_history.append(avg_speed_x)\n",
    "        avg_speed_a = np.mean(episode_history['speed_a'])\n",
    "        speed_a_history.append(avg_speed_a)\n",
    "        if log:\n",
    "            run['train/reward'].log(score)\n",
    "            run['train/avg_speed_z'].log(avg_speed_z)\n",
    "            run['train/avg_speed_x'].log(avg_speed_x)\n",
    "            run['train/avg_speed_a'].log(avg_speed_a)\n",
    "\n",
    "        # update progress bar\n",
    "        pbar.update(1)\n",
    "        pbar.set_description(\n",
    "            'avg score %.3f | avg z %.2f | avg x %.2f | avg a %.1f' % (\n",
    "                np.mean(score_history[-100:]),\n",
    "                np.mean(speed_z_history[-100:]),\n",
    "                np.mean(speed_x_history[-100:]),\n",
    "                np.mean(speed_a_history[-100:]),\n",
    "        ))\n",
    "\n",
    "        # save models\n",
    "        if i % 100 == 0 and i > batch_size:\n",
    "            agent.save_models()"
   ]
  },
  {
   "cell_type": "markdown",
   "metadata": {},
   "source": [
    "# Training"
   ]
  },
  {
   "cell_type": "code",
   "execution_count": 17,
   "metadata": {},
   "outputs": [
    {
     "data": {
      "application/vnd.jupyter.widget-view+json": {
       "model_id": "4a66f3e9292b4deeb376d5f8d55bc567",
       "version_major": 2,
       "version_minor": 0
      },
      "text/plain": [
       "ToggleButton(value=False, description='Toggle Render')"
      ]
     },
     "metadata": {},
     "output_type": "display_data"
    },
    {
     "data": {
      "application/vnd.jupyter.widget-view+json": {
       "model_id": "996b035be7414c189de6e7638c2ff808",
       "version_major": 2,
       "version_minor": 0
      },
      "text/plain": [
       "Output(layout=Layout(border_bottom='1px solid black', border_left='1px solid black', border_right='1px solid b…"
      ]
     },
     "metadata": {},
     "output_type": "display_data"
    },
    {
     "name": "stderr",
     "output_type": "stream",
     "text": [
      "  0%|          | 0/10000000 [00:00<?, ?it/s]"
     ]
    },
    {
     "name": "stdout",
     "output_type": "stream",
     "text": [
      "... loading checkpoint ...\n",
      "... loading checkpoint ...\n",
      "... loading checkpoint ...\n",
      "... loading checkpoint ...\n"
     ]
    },
    {
     "name": "stderr",
     "output_type": "stream",
     "text": [
      "avg score 0.319 | avg z 0.11 | avg x 0.10 | avg a -8.4:   0%|          | 1520/10000000 [11:20<654:40:35,  4.24it/s]    "
     ]
    }
   ],
   "source": [
    "# Display the toggle button and the plot area\n",
    "display(toggle_render, out)\n",
    "\n",
    "# Display the progress bar\n",
    "n_episodes = int(1e7)\n",
    "pbar = tqdm(total=n_episodes, position=0)\n",
    "\n",
    "# Start the process that handles the training\n",
    "process = Process(target=run_loop, args=(toggle_render, out, pbar, n_episodes, load_weights))\n",
    "process.start()"
   ]
  },
  {
   "cell_type": "code",
   "execution_count": 18,
   "metadata": {},
   "outputs": [],
   "source": [
    "# interrupt the training\n",
    "#process.join()"
   ]
  },
  {
   "cell_type": "code",
   "execution_count": 18,
   "metadata": {},
   "outputs": [
    {
     "name": "stdout",
     "output_type": "stream",
     "text": [
      "[neptune] [info   ] Shutting down background jobs, please wait a moment...\n",
      "[neptune] [info   ] Done!\n",
      "[neptune] [info   ] Waiting for the remaining 24 operations to synchronize with Neptune. Do not kill this process.\n",
      "[neptune] [info   ] All 24 operations synced, thanks for waiting!\n",
      "[neptune] [info   ] Explore the metadata in the Neptune app: https://app.neptune.ai/chacungu/Drone-Controller-with-Reinforcement-Learning/e/RLCONTROL-41/metadata\n"
     ]
    }
   ],
   "source": [
    "if log:\n",
    "    # stop neptune\n",
    "    run.stop()"
   ]
  },
  {
   "cell_type": "markdown",
   "metadata": {
    "jp-MarkdownHeadingCollapsed": true
   },
   "source": [
    "# Tests"
   ]
  },
  {
   "cell_type": "markdown",
   "metadata": {
    "jp-MarkdownHeadingCollapsed": true
   },
   "source": [
    "## Reward func"
   ]
  },
  {
   "cell_type": "code",
   "execution_count": 19,
   "metadata": {},
   "outputs": [
    {
     "name": "stderr",
     "output_type": "stream",
     "text": [
      "No artists with labels found to put in legend.  Note that artists whose label start with an underscore are ignored when legend() is called with no argument.\n",
      "No artists with labels found to put in legend.  Note that artists whose label start with an underscore are ignored when legend() is called with no argument.\n",
      "No artists with labels found to put in legend.  Note that artists whose label start with an underscore are ignored when legend() is called with no argument.\n",
      "No artists with labels found to put in legend.  Note that artists whose label start with an underscore are ignored when legend() is called with no argument.\n",
      "No artists with labels found to put in legend.  Note that artists whose label start with an underscore are ignored when legend() is called with no argument.\n",
      "No artists with labels found to put in legend.  Note that artists whose label start with an underscore are ignored when legend() is called with no argument.\n",
      "No artists with labels found to put in legend.  Note that artists whose label start with an underscore are ignored when legend() is called with no argument.\n",
      "No artists with labels found to put in legend.  Note that artists whose label start with an underscore are ignored when legend() is called with no argument.\n",
      "No artists with labels found to put in legend.  Note that artists whose label start with an underscore are ignored when legend() is called with no argument.\n"
     ]
    },
    {
     "data": {
      "image/png": "[encoded data removed]",
      "text/plain": [
       "<Figure size 2500x800 with 10 Axes>"
      ]
     },
     "metadata": {},
     "output_type": "display_data"
    }
   ],
   "source": [
    "import numpy as np\n",
    "import matplotlib.pyplot as plt\n",
    "\n",
    "def get_reward_(travelled_distance, dist_p1_C, \n",
    "                speed_z, speed_z_activation_dist=5, target_dist_p1_C=.15, \n",
    "                alpha=.75, beta=3, gamma=2):\n",
    "    # speed_z in range [ 0., 1.]\n",
    "    # dist_p1_C in range [-1., 1.]\n",
    "    reward_A = travelled_distance * (alpha if travelled_distance < speed_z_activation_dist else 1.)\n",
    "    reward_B = max(0, travelled_distance - speed_z_activation_dist) * beta * speed_z\n",
    "    reward_C = (reward_A + reward_B) * np.interp(dist_p1_C, [ 0., 1.], [0.1, 1.]) * gamma\n",
    "    return reward_A, reward_B, reward_C\n",
    "    \n",
    "fig, axes = plt.subplots(1,10, figsize=(25,8), sharey=True)\n",
    "dists = np.arange(0.,15., .25)\n",
    "for ax, speed in zip(axes, np.arange(0., 1.11, .1)):\n",
    "    ax.set_title('%.1f' % speed)\n",
    "    rewards = list(map(lambda d: get_reward_(d, 0, speed), dists))\n",
    "    ax.bar(dists, list(map(sum, rewards)), color='black', label='total')\n",
    "    ax.bar(dists, dists, color='orange', label='reward: dist')\n",
    "    ax.bar(dists, list(map(lambda r: r[1], rewards)), color='blue', label='reward: speed')\n",
    "    ax.bar(dists, list(map(lambda r: r[2], rewards)), color='yellow', label='reward p1 centered')\n",
    "    ax.grid(axis='y')\n",
    "    plt.legend(loc='best')"
   ]
  },
  {
   "cell_type": "markdown",
   "metadata": {
    "jp-MarkdownHeadingCollapsed": true
   },
   "source": [
    "## Drone & Line"
   ]
  },
  {
   "cell_type": "code",
   "execution_count": 19,
   "metadata": {},
   "outputs": [
    {
     "name": "stdout",
     "output_type": "stream",
     "text": [
      "The autoreload extension is already loaded. To reload it, use:\n",
      "  %reload_ext autoreload\n"
     ]
    },
    {
     "data": {
      "image/png": "[encoded data removed]",
      "text/plain": [
       "<Figure size 640x480 with 1 Axes>"
      ]
     },
     "metadata": {},
     "output_type": "display_data"
    }
   ],
   "source": [
    "%load_ext autoreload\n",
    "%autoreload 2\n",
    "from Line import Line\n",
    "from Drone import Drone\n",
    "import matplotlib.pyplot as plt\n",
    "seed = 23\n",
    "fig = plt.figure()\n",
    "line = Line(seed)\n",
    "line.plot(show=False)\n",
    "drone_params = {\n",
    "    'seed': seed,\n",
    "    'z_min_speed': z_min_speed,\n",
    "    'z_max_speed': z_max_speed,\n",
    "    'x_max_speed': x_max_speed,\n",
    "    'max_angular_speed': max_angular_speed,\n",
    "    'max_drift': max_drift,\n",
    "    'allow_x_movement': allow_x_movement\n",
    "}\n",
    "drone = Drone(**drone_params)\n",
    "drone.find_line(line)\n",
    "drone.plot(show=False)\n",
    "step = 50\n",
    "ax = plt.gca()\n",
    "ax.xaxis.set_major_locator(plt.MultipleLocator(step))\n",
    "ax.yaxis.set_major_locator(plt.MultipleLocator(step))\n",
    "ax.set_aspect('equal')\n",
    "plt.legend()\n",
    "plt.show()"
   ]
  },
  {
   "cell_type": "markdown",
   "metadata": {
    "jp-MarkdownHeadingCollapsed": true
   },
   "source": [
    "## Environment"
   ]
  },
  {
   "cell_type": "code",
   "execution_count": 69,
   "metadata": {},
   "outputs": [
    {
     "name": "stdout",
     "output_type": "stream",
     "text": [
      "The autoreload extension is already loaded. To reload it, use:\n",
      "  %reload_ext autoreload\n"
     ]
    }
   ],
   "source": [
    "%load_ext autoreload\n",
    "%autoreload 2\n",
    "from Environment import Environment\n",
    "import matplotlib.pyplot as plt"
   ]
  },
  {
   "cell_type": "code",
   "execution_count": 70,
   "metadata": {},
   "outputs": [
    {
     "data": {
      "text/plain": [
       "[None, None]"
      ]
     },
     "execution_count": 70,
     "metadata": {},
     "output_type": "execute_result"
    }
   ],
   "source": [
    "testenv.drone.p1"
   ]
  },
  {
   "cell_type": "code",
   "execution_count": 71,
   "metadata": {
    "scrolled": true
   },
   "outputs": [],
   "source": [
    "environment_params = {\n",
    "    'seed': seed,\n",
    "    'max_allowed_dist': max_allowed_dist,\n",
    "    'z_min_speed': z_min_speed,\n",
    "    'z_max_speed': z_max_speed,\n",
    "    'x_max_speed': x_max_speed,\n",
    "    'max_angular_speed': max_angular_speed,\n",
    "    'max_drift': max_drift,\n",
    "    'allow_x_movement': allow_x_movement,\n",
    "    'speed_z_activation_dist': speed_z_activation_dist,\n",
    "    'target_dist_p1_C': target_dist_p1_C,\n",
    "    'alpha': alpha,\n",
    "    'beta':beta ,\n",
    "    'gamma': gamma\n",
    "}\n",
    "testenv = Environment(**environment_params)\n",
    "testout = widgets.Output(layout={'border': '1px solid black'})"
   ]
  },
  {
   "cell_type": "code",
   "execution_count": 77,
   "metadata": {},
   "outputs": [
    {
     "name": "stdout",
     "output_type": "stream",
     "text": [
      "observation [-2, 1.0, 0.32272052081883285],\n",
      " reward 1.885, terminated True, truncated False\n"
     ]
    },
    {
     "data": {
      "application/vnd.jupyter.widget-view+json": {
       "model_id": "9019e89150e44ff08612d7b0aedf8166",
       "version_major": 2,
       "version_minor": 0
      },
      "text/plain": [
       "Output(layout=Layout(border_bottom='1px solid black', border_left='1px solid black', border_right='1px solid b…"
      ]
     },
     "metadata": {},
     "output_type": "display_data"
    },
    {
     "data": {
      "text/plain": [
       "<Figure size 640x480 with 0 Axes>"
      ]
     },
     "metadata": {},
     "output_type": "display_data"
    }
   ],
   "source": [
    "action = {\n",
    "    'speed_z': 0, # range [ 0,1] (0 = slow forward speed, 1 = fast forward speed)\n",
    "    'speed_x': 0, # range [-1,1] (-1 = move left fast, 0 = no lateral movement, 1 = move right fast)\n",
    "    'speed_a': -1, # range [-1,1] (-1 = turn left fast, 0 = no turn, 1 = turn right fast)\n",
    "}\n",
    "\n",
    "print('observation %s,\\n reward %.3f, terminated %s, truncated %s' % testenv.step(list(action.values())))\n",
    "testfig, testax = plt.subplots(figsize=(12, 8))\n",
    "display(testout)\n",
    "testenv.render(testout)"
   ]
  },
  {
   "cell_type": "markdown",
   "metadata": {},
   "source": [
    "## Exploring ideas..."
   ]
  },
  {
   "cell_type": "markdown",
   "metadata": {},
   "source": [
    "- what if we \"mapped\" the line? the drone would see the line and store the coordinates of both points. we would also try to calculate the coordinates of the drone in the scene. then we would calculate the nearest point on the mapped line from the drone and feed the model with this point and the N future ones along with the position of the drone. the hope would be that the model learns to correct the current drone trajectory to stick to the line but also try to predict the future events."
   ]
  },
  {
   "cell_type": "markdown",
   "metadata": {},
   "source": [
    "même en chargeant les weights d'une bonne version du modèle, on a un bon reward pendant quelques itérations puis ça drop.\n",
    "ça montre que dans le code actuel on a qqch qui rend l'apprentissage difficile.\n",
    "est-ce que c'est un bug? est-ce que c'est le reward?\n",
    "en tout cas la vitesse angulaire est en moyenne toujours dans une extrême..."
   ]
  },
  {
   "cell_type": "code",
   "execution_count": null,
   "metadata": {},
   "outputs": [],
   "source": []
  }
 ],
 "metadata": {
  "kernelspec": {
   "display_name": "Python 3 (ipykernel)",
   "language": "python",
   "name": "python3"
  },
  "language_info": {
   "codemirror_mode": {
    "name": "ipython",
    "version": 3
   },
   "file_extension": ".py",
   "mimetype": "text/x-python",
   "name": "python",
   "nbconvert_exporter": "python",
   "pygments_lexer": "ipython3",
   "version": "3.10.11"
  }
 },
 "nbformat": 4,
 "nbformat_minor": 4
}
